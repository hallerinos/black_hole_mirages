{
 "cells": [
  {
   "cell_type": "code",
   "execution_count": 5,
   "metadata": {
    "vscode": {
     "languageId": "wolfram"
    }
   },
   "outputs": [
    {
     "data": {
      "text/html": [
       "<div><img alt=\"Output\" src=\"data:image/png;base64,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\"></div>"
      ],
      "text/plain": [
       "Which[a, b, a, b]"
      ]
     },
     "execution_count": 5,
     "metadata": {
      "text/html": [],
      "text/plain": []
     },
     "output_type": "execute_result"
    }
   ],
   "source": [
    "Which[a, b, a, b]"
   ]
  },
  {
   "cell_type": "code",
   "execution_count": null,
   "metadata": {
    "vscode": {
     "languageId": "wolfram"
    }
   },
   "outputs": [],
   "source": []
  }
 ],
 "metadata": {
  "kernelspec": {
   "display_name": "Wolfram Language 12.2",
   "language": "Wolfram Language",
   "name": "wolframlanguage12.2"
  },
  "language_info": {
   "codemirror_mode": "mathematica",
   "file_extension": ".m",
   "mimetype": "application/vnd.wolfram.m",
   "name": "Wolfram Language",
   "pygments_lexer": "mathematica",
   "version": "12.0"
  },
  "orig_nbformat": 4
 },
 "nbformat": 4,
 "nbformat_minor": 2
}
